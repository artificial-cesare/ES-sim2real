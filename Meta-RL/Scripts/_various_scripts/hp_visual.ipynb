{
 "cells": [
  {
   "cell_type": "code",
   "execution_count": 1,
   "metadata": {},
   "outputs": [],
   "source": [
    "import os\n",
    "import gymnasium as gym\n",
    "import numpy as np\n",
    "\n",
    "import torch.nn as nn\n",
    "\n",
    "from stable_baselines3.common.vec_env import DummyVecEnv, VecNormalize, SubprocVecEnv\n",
    "from stable_baselines3.common.env_util import make_vec_env\n",
    "from stable_baselines3 import PPO\n",
    "\n",
    "from stable_baselines3.common.utils import set_random_seed"
   ]
  },
  {
   "cell_type": "code",
   "execution_count": 11,
   "metadata": {},
   "outputs": [],
   "source": [
    "from stable_baselines3.common.env_util import unwrap_wrapper, is_wrapped"
   ]
  },
  {
   "cell_type": "code",
   "execution_count": 2,
   "metadata": {},
   "outputs": [
    {
     "ename": "NameError",
     "evalue": "name 'Auto_DR_Wrapper' is not defined",
     "output_type": "error",
     "traceback": [
      "\u001b[1;31m---------------------------------------------------------------------------\u001b[0m",
      "\u001b[1;31mNameError\u001b[0m                                 Traceback (most recent call last)",
      "Cell \u001b[1;32mIn[2], line 3\u001b[0m\n\u001b[0;32m      1\u001b[0m seed \u001b[38;5;241m=\u001b[39m \u001b[38;5;241m42\u001b[39m\n\u001b[1;32m----> 3\u001b[0m env \u001b[38;5;241m=\u001b[39m make_vec_env(\u001b[38;5;124m'\u001b[39m\u001b[38;5;124mHopper-v4\u001b[39m\u001b[38;5;124m'\u001b[39m, n_envs\u001b[38;5;241m=\u001b[39m\u001b[38;5;241m16\u001b[39m, seed\u001b[38;5;241m=\u001b[39mseed, vec_env_cls\u001b[38;5;241m=\u001b[39mDummyVecEnv, wrapper_class\u001b[38;5;241m=\u001b[39m\u001b[43mAuto_DR_Wrapper\u001b[49m, wrapper_kwargs\u001b[38;5;241m=\u001b[39mdr_quarks_hopper)\n\u001b[0;32m      5\u001b[0m \u001b[38;5;66;03m#print(env.envs[0].model.body('torso').mass) # 1 is the second environment\u001b[39;00m\n\u001b[0;32m      7\u001b[0m randomize_fn \u001b[38;5;241m=\u001b[39m env\u001b[38;5;241m.\u001b[39menv_method(\u001b[38;5;124m'\u001b[39m\u001b[38;5;124msample_task\u001b[39m\u001b[38;5;124m'\u001b[39m)\n",
      "\u001b[1;31mNameError\u001b[0m: name 'Auto_DR_Wrapper' is not defined"
     ]
    }
   ],
   "source": [
    "seed = 42\n",
    "\n",
    "env = make_vec_env('Hopper-v4', n_envs=16, seed=seed, vec_env_cls=DummyVecEnv, wrapper_class=Auto_DR_Wrapper, wrapper_kwargs=dr_quarks_hopper)\n",
    "\n",
    "#print(env.envs[0].model.body('torso').mass) # 1 is the second environment\n",
    "\n",
    "randomize_fn = env.env_method('sample_task')\n",
    "set_task_fn = env.get_attr('set_task')\n",
    "print('rand fn', randomize_fn)\n",
    "print('set fn', set_task_fn)\n",
    "\n",
    "for i in range(len(randomize_fn)):\n",
    "    print(\"set task i:\", set_task_fn[i])\n",
    "    print(\"randomize i:\", randomize_fn[i])\n",
    "    set_task_fn[i](randomize_fn[i])"
   ]
  },
  {
   "cell_type": "code",
   "execution_count": 19,
   "metadata": {},
   "outputs": [
    {
     "ename": "NameError",
     "evalue": "name 'HopperEnv' is not defined",
     "output_type": "error",
     "traceback": [
      "\u001b[1;31m---------------------------------------------------------------------------\u001b[0m",
      "\u001b[1;31mNameError\u001b[0m                                 Traceback (most recent call last)",
      "Cell \u001b[1;32mIn[19], line 1\u001b[0m\n\u001b[1;32m----> 1\u001b[0m unwrap_wrapper(env\u001b[38;5;241m.\u001b[39m_get_target_envs(\u001b[38;5;241m0\u001b[39m), \u001b[43mHopperEnv\u001b[49m)\n",
      "\u001b[1;31mNameError\u001b[0m: name 'HopperEnv' is not defined"
     ]
    }
   ],
   "source": [
    "unwrap_wrapper(env._get_target_envs(0), HopperEnv)"
   ]
  },
  {
   "cell_type": "code",
   "execution_count": 22,
   "metadata": {},
   "outputs": [
    {
     "data": {
      "text/plain": [
       "'Hopper-v4'"
      ]
     },
     "execution_count": 22,
     "metadata": {},
     "output_type": "execute_result"
    }
   ],
   "source": [
    "env._get_target_envs(0)[0].unwrapped.spec.id"
   ]
  },
  {
   "cell_type": "code",
   "execution_count": 23,
   "metadata": {},
   "outputs": [
    {
     "data": {
      "text/plain": [
       "'Hopper-v4'"
      ]
     },
     "execution_count": 23,
     "metadata": {},
     "output_type": "execute_result"
    }
   ],
   "source": [
    "name = env.envs[0].unwrapped.spec.id\n",
    "name"
   ]
  },
  {
   "cell_type": "code",
   "execution_count": 27,
   "metadata": {},
   "outputs": [
    {
     "name": "stdout",
     "output_type": "stream",
     "text": [
      "[0.         6.25020921 1.54351464 1.5874477  1.09539749 1.43807531\n",
      " 1.20083682 0.88451883]\n",
      "[[0.4 0.1 0.1]\n",
      " [0.4 0.1 0.1]\n",
      " [0.4 0.1 0.1]\n",
      " [0.4 0.1 0.1]\n",
      " [0.4 0.1 0.1]\n",
      " [0.4 0.1 0.1]\n",
      " [0.4 0.1 0.1]\n",
      " [0.4 0.1 0.1]\n",
      " [0.4 0.1 0.1]]\n",
      "[0.  0.  0.  6.  4.5 3.  4.5 3.  1.5]\n"
     ]
    },
    {
     "ename": "AttributeError",
     "evalue": "'list' object has no attribute 'unwrapped'",
     "output_type": "error",
     "traceback": [
      "\u001b[1;31m---------------------------------------------------------------------------\u001b[0m",
      "\u001b[1;31mAttributeError\u001b[0m                            Traceback (most recent call last)",
      "Cell \u001b[1;32mIn[27], line 7\u001b[0m\n\u001b[0;32m      5\u001b[0m \u001b[38;5;28mprint\u001b[39m(env\u001b[38;5;241m.\u001b[39mget_attr(\u001b[38;5;124m'\u001b[39m\u001b[38;5;124mmodel\u001b[39m\u001b[38;5;124m'\u001b[39m)[\u001b[38;5;241m0\u001b[39m]\u001b[38;5;241m.\u001b[39mdof_damping)\n\u001b[0;32m      6\u001b[0m \u001b[38;5;66;03m#print(env.get_attr('model')[0].pair_friction)\u001b[39;00m\n\u001b[1;32m----> 7\u001b[0m \u001b[38;5;28mprint\u001b[39m(\u001b[43menv\u001b[49m\u001b[38;5;241;43m.\u001b[39;49m\u001b[43menvs\u001b[49m\u001b[38;5;241;43m.\u001b[39;49m\u001b[43munwrapped\u001b[49m\u001b[38;5;241m.\u001b[39mmodel\u001b[38;5;241m.\u001b[39mgeom_friction)\n",
      "\u001b[1;31mAttributeError\u001b[0m: 'list' object has no attribute 'unwrapped'"
     ]
    }
   ],
   "source": [
    "env = make_vec_env('HalfCheetah-v4', n_envs=16, seed=seed, vec_env_cls=DummyVecEnv)\n",
    "\n",
    "print(env.get_attr('model')[0].body_mass) \n",
    "print(env.get_attr('model')[0].geom_friction)\n",
    "print(env.get_attr('model')[0].dof_damping)\n",
    "#print(env.get_attr('model')[0].pair_friction)\n",
    "\n",
    "\n",
    "print(env.envs[0].unwrapped.model.geom_friction)"
   ]
  },
  {
   "cell_type": "code",
   "execution_count": 8,
   "metadata": {},
   "outputs": [
    {
     "name": "stdout",
     "output_type": "stream",
     "text": [
      "[0.         0.32724923 0.03915775 0.03915775 0.0675922  0.03915775\n",
      " 0.03915775 0.0675922  0.03915775 0.03915775 0.0675922  0.03915775\n",
      " 0.03915775 0.0675922 ]\n",
      "[[1.  0.5 0.5]\n",
      " [1.  0.5 0.5]\n",
      " [1.  0.5 0.5]\n",
      " [1.  0.5 0.5]\n",
      " [1.  0.5 0.5]\n",
      " [1.  0.5 0.5]\n",
      " [1.  0.5 0.5]\n",
      " [1.  0.5 0.5]\n",
      " [1.  0.5 0.5]\n",
      " [1.  0.5 0.5]\n",
      " [1.  0.5 0.5]\n",
      " [1.  0.5 0.5]\n",
      " [1.  0.5 0.5]\n",
      " [1.  0.5 0.5]]\n",
      "[0. 0. 0. 0. 0. 0. 1. 1. 1. 1. 1. 1. 1. 1.]\n"
     ]
    }
   ],
   "source": [
    "seed = 42\n",
    "\n",
    "env = make_vec_env('Ant-v4', n_envs=16, seed=seed, vec_env_cls=DummyVecEnv)\n",
    "\n",
    "print(env.get_attr('model')[0].body_mass) \n",
    "print(env.get_attr('model')[0].geom_friction)\n",
    "print(env.get_attr('model')[0].dof_damping)"
   ]
  },
  {
   "cell_type": "code",
   "execution_count": 9,
   "metadata": {},
   "outputs": [
    {
     "name": "stdout",
     "output_type": "stream",
     "text": [
      "[0.         8.90746237 2.26194671 6.61619413 4.75175093 2.75569617\n",
      " 1.76714587 4.75175093 2.75569617 1.76714587 1.66108048 1.22954019\n",
      " 1.66108048 1.22954019]\n",
      "[[1.e+00 1.e-01 1.e-01]\n",
      " [1.e+00 5.e-03 1.e-04]\n",
      " [1.e+00 5.e-03 1.e-04]\n",
      " [1.e+00 5.e-03 1.e-04]\n",
      " [1.e+00 5.e-03 1.e-04]\n",
      " [1.e+00 5.e-03 1.e-04]\n",
      " [1.e+00 5.e-03 1.e-04]\n",
      " [1.e+00 5.e-03 1.e-04]\n",
      " [1.e+00 5.e-03 1.e-04]\n",
      " [1.e+00 5.e-03 1.e-04]\n",
      " [1.e+00 5.e-03 1.e-04]\n",
      " [1.e+00 5.e-03 1.e-04]\n",
      " [1.e+00 5.e-03 1.e-04]\n",
      " [1.e+00 5.e-03 1.e-04]\n",
      " [1.e+00 5.e-03 1.e-04]\n",
      " [1.e+00 5.e-03 1.e-04]\n",
      " [1.e+00 5.e-03 1.e-04]\n",
      " [1.e+00 5.e-03 1.e-04]]\n",
      "[0. 0. 0. 0. 0. 0. 5. 5. 5. 5. 5. 5. 1. 5. 5. 5. 1. 1. 1. 1. 1. 1. 1.]\n"
     ]
    }
   ],
   "source": [
    "env = make_vec_env('Humanoid-v4', n_envs=16, seed=seed, vec_env_cls=DummyVecEnv)\n",
    "\n",
    "print(env.get_attr('model')[0].body_mass) \n",
    "print(env.get_attr('model')[0].geom_friction)\n",
    "print(env.get_attr('model')[0].dof_damping)"
   ]
  }
 ],
 "metadata": {
  "kernelspec": {
   "display_name": "R-ML",
   "language": "python",
   "name": "python3"
  },
  "language_info": {
   "codemirror_mode": {
    "name": "ipython",
    "version": 3
   },
   "file_extension": ".py",
   "mimetype": "text/x-python",
   "name": "python",
   "nbconvert_exporter": "python",
   "pygments_lexer": "ipython3",
   "version": "3.12.3"
  }
 },
 "nbformat": 4,
 "nbformat_minor": 2
}
