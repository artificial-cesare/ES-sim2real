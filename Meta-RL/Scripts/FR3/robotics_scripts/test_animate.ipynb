{
 "cells": [
  {
   "cell_type": "code",
   "execution_count": 8,
   "metadata": {},
   "outputs": [],
   "source": [
    "import os \n",
    "import sys \n",
    "from os import path\n",
    "import mujoco\n",
    "import mediapy as media\n",
    "\n",
    "#sys.path.append(os.path.abspath(os.path.join(os.path.dirname(__file__), \"fr3_env_mujoco\", \"fr3_robot\")))\n",
    "XML_FILE = r\"C:\\Users\\cesar\\OneDrive\\Documenti\\GitHub\\ES-sim2real\\Meta-RL\\Scripts\\FR3\\fr3_env_mujoco\\fr3_robot\\fr3_w_hand.xml\"\n",
    "\n",
    "def load_n_animate(xml_path):\n",
    "    # model description, i.e., all quantities which do not change over time\n",
    "    model = mujoco.MjModel.from_xml_path(xml_path) # for reference attributes of model: https://github.com/google-deepmind/mujoco/blob/main/include/mujoco/mjmodel.h\n",
    "\n",
    "    try:\n",
    "        model.geom()\n",
    "    except KeyError as e:\n",
    "        print(e) # error can be used to print actual attribute names for geoms of model\n",
    "\n",
    "    # state and quantities that depend on it. The state is made up of time, generalized positions and generalized velocities\n",
    "    data = mujoco.MjData(model) # only changes once it's propagated through the simulation\n",
    "    print(\"time:\", data.time)\n",
    "    print(\"qpos:\", data.qpos)\n",
    "    print(\"qvel:\", data.qvel)\n",
    "\n",
    "    # print x,y,z position of the first body\n",
    "    print(\"pos of first body {}: {}\".format(model.body(0).name, data.xpos[0]))\n",
    "\n",
    "    with mujoco.Renderer(model) as renderer:\n",
    "        mujoco.mj_forward(model, data)\n",
    "        renderer.update_scene(data)\n",
    "\n",
    "        media.show_image(renderer.render())"
   ]
  },
  {
   "cell_type": "code",
   "execution_count": 9,
   "metadata": {},
   "outputs": [
    {
     "name": "stdout",
     "output_type": "stream",
     "text": [
      "\"Invalid name ''. Valid names: ['fr3_link0_collision', 'fr3_link1_collision', 'fr3_link2_collision', 'fr3_link3_collision', 'fr3_link4_collision', 'fr3_link5_collision', 'fr3_link6_collision', 'fr3_link7_collision']\"\n",
      "time: 0.0\n",
      "qpos: [0. 0. 0. 0. 0. 0. 0. 0. 0.]\n",
      "qvel: [0. 0. 0. 0. 0. 0. 0. 0. 0.]\n",
      "pos of first body world: [0. 0. 0.]\n"
     ]
    },
    {
     "data": {
      "text/html": [
       "<table class=\"show_images\" style=\"border-spacing:0px;\"><tr><td style=\"padding:1px;\"><img width=\"320\" height=\"240\" style=\"image-rendering:auto; object-fit:cover;\" src=\"data:image/png;base64,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\"/></td></tr></table>"
      ],
      "text/plain": [
       "<IPython.core.display.HTML object>"
      ]
     },
     "metadata": {},
     "output_type": "display_data"
    }
   ],
   "source": [
    "if not os.path.exists(XML_FILE):\n",
    "        print(\"{} File does not exist\".format(XML_FILE))\n",
    "\n",
    "load_n_animate(XML_FILE)"
   ]
  }
 ],
 "metadata": {
  "kernelspec": {
   "display_name": "meta-rl",
   "language": "python",
   "name": "python3"
  },
  "language_info": {
   "codemirror_mode": {
    "name": "ipython",
    "version": 3
   },
   "file_extension": ".py",
   "mimetype": "text/x-python",
   "name": "python",
   "nbconvert_exporter": "python",
   "pygments_lexer": "ipython3",
   "version": "3.11.9"
  }
 },
 "nbformat": 4,
 "nbformat_minor": 2
}
