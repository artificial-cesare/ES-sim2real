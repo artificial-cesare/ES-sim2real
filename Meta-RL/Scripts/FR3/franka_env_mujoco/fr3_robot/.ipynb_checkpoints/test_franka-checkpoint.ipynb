{
 "cells": [
  {
   "cell_type": "code",
   "execution_count": 1,
   "metadata": {},
   "outputs": [],
   "source": [
    "import mujoco\n",
    "\n",
    "model = mujoco.MjModel.from_xml_path(r\"C:\\Users\\cesar\\OneDrive\\Desktop\\Meta-RL\\Scripts\\Panda\\mujoco_menagerie\\franka_fr3\\fr3_hand.xml\")"
   ]
  },
  {
   "cell_type": "code",
   "execution_count": 2,
   "metadata": {},
   "outputs": [],
   "source": [
    "! python -m mujoco.viewer --mjcf mujoco_menagerie/unitree_go2/scene.xml"
   ]
  }
 ],
 "metadata": {
  "kernelspec": {
   "display_name": "METARL",
   "language": "python",
   "name": "python3"
  },
  "language_info": {
   "codemirror_mode": {
    "name": "ipython",
    "version": 3
   },
   "file_extension": ".py",
   "mimetype": "text/x-python",
   "name": "python",
   "nbconvert_exporter": "python",
   "pygments_lexer": "ipython3",
   "version": "3.12.3"
  }
 },
 "nbformat": 4,
 "nbformat_minor": 2
}
