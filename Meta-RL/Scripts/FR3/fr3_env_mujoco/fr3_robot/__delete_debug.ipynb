{
 "cells": [
  {
   "cell_type": "code",
   "execution_count": 1,
   "metadata": {},
   "outputs": [
    {
     "name": "stdout",
     "output_type": "stream",
     "text": [
      "Joints: ['fr3_joint1', 'fr3_joint2', 'fr3_joint3', 'fr3_joint4', 'fr3_joint5', 'fr3_joint6', 'fr3_joint7', 'finger_joint1', 'finger_joint2']\n",
      "Actuators: []\n"
     ]
    }
   ],
   "source": [
    "import xml.etree.ElementTree as ET\n",
    "from os import path\n",
    "\n",
    "def _parse_xml_joints_and_actuators(path):\n",
    "        joint_names = []\n",
    "        actuator_names = []\n",
    "        \n",
    "        # Parse the XML file\n",
    "        tree = ET.parse(path)\n",
    "        root = tree.getroot()\n",
    "        \n",
    "        # Extract joint names\n",
    "        for joint in root.findall(\".//joint\"):\n",
    "            name = joint.get(\"name\")\n",
    "            if name:\n",
    "                joint_names.append(name)\n",
    "        \n",
    "        # Extract actuator names\n",
    "        for actuator in root.findall(\".//actuator\"):\n",
    "            name = actuator.get(\"name\")\n",
    "            if name:\n",
    "                actuator_names.append(name)\n",
    "        \n",
    "        return joint_names, actuator_names\n",
    "\n",
    "joint_names, actuator_names = _parse_xml_joints_and_actuators(\"fr3_w_hand.xml\")\n",
    "\n",
    "print(f\"Joints: {joint_names}\")\n",
    "print(f\"Actuators: {actuator_names}\")"
   ]
  },
  {
   "cell_type": "code",
   "execution_count": null,
   "metadata": {},
   "outputs": [],
   "source": [
    "from os import path\n",
    "import numpy as np\n",
    "from fr3_robot.fr3_env import FrankaFR3Robot\n",
    "\n",
    "env = FrankaFR3Robot(render_mode='human')\n",
    "import time\n",
    "st = time.time()\n",
    "while time.time()-st < 5.0:\n",
    "    env.step(env.action_space.sample())\n",
    "    joints = env.model.name_actuatoradr\n",
    "    n_joints =  env.model.njnt\n",
    "    actuators = env.model.name_jntadr\n",
    "    n_actuators = env.model.nu\n",
    "    id2name = {i: None for i in range(n_obj)}\n",
    "    name2id = {}\n",
    "    for addr in name_addr:\n",
    "        name = model.names[addr:].split(b\"\\x00\")[0].decode()\n",
    "        if name:\n",
    "            obj_id = mujoco.mj_name2id(model, obj_type, name)\n",
    "            assert 0 <= obj_id < n_obj and id2name[obj_id] is None\n",
    "            name2id[name] = obj_id\n",
    "            id2name[obj_id] = name\n",
    "\n",
    "    return tuple(id2name[id] for id in sorted(name2id.values())), name2id, id2name\n",
    "    print(joints)\n",
    "    print(actuators)\n",
    "    env.render()\n",
    "env.close()"
   ]
  }
 ],
 "metadata": {
  "kernelspec": {
   "display_name": "meta-rl",
   "language": "python",
   "name": "python3"
  },
  "language_info": {
   "codemirror_mode": {
    "name": "ipython",
    "version": 3
   },
   "file_extension": ".py",
   "mimetype": "text/x-python",
   "name": "python",
   "nbconvert_exporter": "python",
   "pygments_lexer": "ipython3",
   "version": "3.11.9"
  }
 },
 "nbformat": 4,
 "nbformat_minor": 2
}
